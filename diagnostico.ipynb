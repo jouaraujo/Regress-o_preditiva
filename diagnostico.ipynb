{
 "cells": [
  {
   "cell_type": "markdown",
   "metadata": {},
   "source": [
    "#### Suposições mais importantes"
   ]
  },
  {
   "cell_type": "markdown",
   "metadata": {},
   "source": [
    "* Normalidade dos resíduos: valores dos resíduos devem seguir uma distribuição próxima a Normal.\n",
    "* Resíduos com variância constante (homoscedasticidade): distância entre os valores estimados e os valores observados (resíduos) deve ser estável."
   ]
  },
  {
   "cell_type": "markdown",
   "metadata": {},
   "source": [
    "#### Interpretação do Modelo"
   ]
  },
  {
   "cell_type": "markdown",
   "metadata": {},
   "source": [
    "* Causalidade ou Associação: as relações entre as variáveis explicativas e a variável resposta devem fazer sentido do ponto de vista de negócios. Além disso, deve-se avaliar se essas realações são de associação ou causalidade."
   ]
  },
  {
   "cell_type": "markdown",
   "metadata": {},
   "source": [
    "#### Diagnóstico do Modelo - Análise dos Resíduos"
   ]
  },
  {
   "cell_type": "markdown",
   "metadata": {},
   "source": [
    "Os resíduos do modelo são a diferença entre os valores estimado utilizando os coeficientes do modelo ajustado e os valores observados."
   ]
  },
  {
   "cell_type": "markdown",
   "metadata": {},
   "source": [
    "Analisar os resíduos do modelo permite identificar se o modelo está bem ajustado e se as premissas não foram violadas."
   ]
  },
  {
   "cell_type": "markdown",
   "metadata": {},
   "source": [
    "#### Diagnóstico do Modelo - Normalidade dos Resíduos"
   ]
  },
  {
   "cell_type": "markdown",
   "metadata": {},
   "source": [
    "A normalidade dos resíduos é importante para avaliar se o modelo está ajustado de forma não viesada. Ou seja, os erros de estimativa (resíduos) ocorrem de forma aleatória, de acordo com uma distribuição Normal."
   ]
  },
  {
   "cell_type": "markdown",
   "metadata": {},
   "source": [
    "#### Diagnóstico do Modelo - Homoscedasticidade dos Resíduos"
   ]
  },
  {
   "cell_type": "markdown",
   "metadata": {},
   "source": [
    "Outro fator importante é a variância dos resíduos, que deve ser homogênea. Ou seja, essa variância não deve mudar de acordo com os valores da variável explicativa."
   ]
  },
  {
   "cell_type": "code",
   "execution_count": 1,
   "metadata": {},
   "outputs": [],
   "source": [
    "import numpy as np\n",
    "import pandas as pd\n",
    "\n",
    "import matplotlib.pyplot as plt\n",
    "import seaborn as sns\n",
    "\n",
    "import statsmodels as sms\n",
    "import statsmodels.api as sm"
   ]
  },
  {
   "cell_type": "code",
   "execution_count": 4,
   "metadata": {},
   "outputs": [],
   "source": [
    "df = pd.read_csv('dados/base_funcionarios_v2.csv',sep=';', index_col='id')"
   ]
  },
  {
   "cell_type": "code",
   "execution_count": 5,
   "metadata": {},
   "outputs": [
    {
     "data": {
      "text/plain": [
       "(46, 3)"
      ]
     },
     "execution_count": 5,
     "metadata": {},
     "output_type": "execute_result"
    }
   ],
   "source": [
    "df.shape"
   ]
  },
  {
   "cell_type": "code",
   "execution_count": 6,
   "metadata": {},
   "outputs": [
    {
     "data": {
      "text/html": [
       "<div>\n",
       "<style scoped>\n",
       "    .dataframe tbody tr th:only-of-type {\n",
       "        vertical-align: middle;\n",
       "    }\n",
       "\n",
       "    .dataframe tbody tr th {\n",
       "        vertical-align: top;\n",
       "    }\n",
       "\n",
       "    .dataframe thead th {\n",
       "        text-align: right;\n",
       "    }\n",
       "</style>\n",
       "<table border=\"1\" class=\"dataframe\">\n",
       "  <thead>\n",
       "    <tr style=\"text-align: right;\">\n",
       "      <th></th>\n",
       "      <th>Salario</th>\n",
       "      <th>Anos_Educ_Superior</th>\n",
       "      <th>Tempo_Empresa</th>\n",
       "    </tr>\n",
       "    <tr>\n",
       "      <th>id</th>\n",
       "      <th></th>\n",
       "      <th></th>\n",
       "      <th></th>\n",
       "    </tr>\n",
       "  </thead>\n",
       "  <tbody>\n",
       "    <tr>\n",
       "      <th>1</th>\n",
       "      <td>5517.4</td>\n",
       "      <td>3</td>\n",
       "      <td>3</td>\n",
       "    </tr>\n",
       "    <tr>\n",
       "      <th>2</th>\n",
       "      <td>6399.9</td>\n",
       "      <td>4</td>\n",
       "      <td>6</td>\n",
       "    </tr>\n",
       "    <tr>\n",
       "      <th>3</th>\n",
       "      <td>6206.7</td>\n",
       "      <td>6</td>\n",
       "      <td>3</td>\n",
       "    </tr>\n",
       "    <tr>\n",
       "      <th>4</th>\n",
       "      <td>6060.6</td>\n",
       "      <td>4</td>\n",
       "      <td>5</td>\n",
       "    </tr>\n",
       "    <tr>\n",
       "      <th>5</th>\n",
       "      <td>6122.7</td>\n",
       "      <td>2</td>\n",
       "      <td>9</td>\n",
       "    </tr>\n",
       "  </tbody>\n",
       "</table>\n",
       "</div>"
      ],
      "text/plain": [
       "    Salario  Anos_Educ_Superior  Tempo_Empresa\n",
       "id                                            \n",
       "1    5517.4                   3              3\n",
       "2    6399.9                   4              6\n",
       "3    6206.7                   6              3\n",
       "4    6060.6                   4              5\n",
       "5    6122.7                   2              9"
      ]
     },
     "execution_count": 6,
     "metadata": {},
     "output_type": "execute_result"
    }
   ],
   "source": [
    "df.head()"
   ]
  },
  {
   "cell_type": "code",
   "execution_count": 7,
   "metadata": {},
   "outputs": [
    {
     "data": {
      "text/html": [
       "<div>\n",
       "<style scoped>\n",
       "    .dataframe tbody tr th:only-of-type {\n",
       "        vertical-align: middle;\n",
       "    }\n",
       "\n",
       "    .dataframe tbody tr th {\n",
       "        vertical-align: top;\n",
       "    }\n",
       "\n",
       "    .dataframe thead th {\n",
       "        text-align: right;\n",
       "    }\n",
       "</style>\n",
       "<table border=\"1\" class=\"dataframe\">\n",
       "  <thead>\n",
       "    <tr style=\"text-align: right;\">\n",
       "      <th></th>\n",
       "      <th>Salario</th>\n",
       "      <th>Anos_Educ_Superior</th>\n",
       "      <th>Tempo_Empresa</th>\n",
       "    </tr>\n",
       "    <tr>\n",
       "      <th>id</th>\n",
       "      <th></th>\n",
       "      <th></th>\n",
       "      <th></th>\n",
       "    </tr>\n",
       "  </thead>\n",
       "  <tbody>\n",
       "    <tr>\n",
       "      <th>40</th>\n",
       "      <td>8082.2</td>\n",
       "      <td>4</td>\n",
       "      <td>20</td>\n",
       "    </tr>\n",
       "    <tr>\n",
       "      <th>26</th>\n",
       "      <td>4645.9</td>\n",
       "      <td>0</td>\n",
       "      <td>5</td>\n",
       "    </tr>\n",
       "    <tr>\n",
       "      <th>27</th>\n",
       "      <td>5736.9</td>\n",
       "      <td>7</td>\n",
       "      <td>0</td>\n",
       "    </tr>\n",
       "    <tr>\n",
       "      <th>45</th>\n",
       "      <td>6235.4</td>\n",
       "      <td>4</td>\n",
       "      <td>6</td>\n",
       "    </tr>\n",
       "    <tr>\n",
       "      <th>36</th>\n",
       "      <td>9857.1</td>\n",
       "      <td>8</td>\n",
       "      <td>12</td>\n",
       "    </tr>\n",
       "  </tbody>\n",
       "</table>\n",
       "</div>"
      ],
      "text/plain": [
       "    Salario  Anos_Educ_Superior  Tempo_Empresa\n",
       "id                                            \n",
       "40   8082.2                   4             20\n",
       "26   4645.9                   0              5\n",
       "27   5736.9                   7              0\n",
       "45   6235.4                   4              6\n",
       "36   9857.1                   8             12"
      ]
     },
     "execution_count": 7,
     "metadata": {},
     "output_type": "execute_result"
    }
   ],
   "source": [
    "df.sample(5, random_state=42)"
   ]
  },
  {
   "cell_type": "code",
   "execution_count": 9,
   "metadata": {},
   "outputs": [
    {
     "data": {
      "image/png": "[encoded data removed]",
      "text/plain": [
       "<Figure size 1500x500 with 2 Axes>"
      ]
     },
     "metadata": {},
     "output_type": "display_data"
    }
   ],
   "source": [
    "fig, ((ax1, ax2)) = plt.subplots(1, 2, sharey=True, figsize=(15, 5))\n",
    "ax1.scatter(df['Anos_Educ_Superior'], df['Salario']);\n",
    "ax2.scatter(df['Tempo_Empresa'], df['Salario']);"
   ]
  },
  {
   "cell_type": "code",
   "execution_count": 10,
   "metadata": {},
   "outputs": [
    {
     "data": {
      "image/png": "[encoded data removed]",
      "text/plain": [
       "<Figure size 800x600 with 2 Axes>"
      ]
     },
     "metadata": {},
     "output_type": "display_data"
    }
   ],
   "source": [
    "fig = plt.figure(figsize=(8, 6))\n",
    "sns.heatmap(df.corr(),\n",
    "            cmap='RdBu_r',\n",
    "            vmin=-1, vmax=1,\n",
    "            annot=True);"
   ]
  },
  {
   "cell_type": "code",
   "execution_count": 12,
   "metadata": {},
   "outputs": [],
   "source": [
    "y = df['Salario']\n",
    "\n",
    "df['intercepto'] = 1\n",
    "x = df[['intercepto', 'Anos_Educ_Superior',\n",
    "        'Tempo_Empresa']]"
   ]
  },
  {
   "cell_type": "code",
   "execution_count": 13,
   "metadata": {},
   "outputs": [
    {
     "name": "stdout",
     "output_type": "stream",
     "text": [
      "                            OLS Regression Results                            \n",
      "==============================================================================\n",
      "Dep. Variable:                Salario   R-squared:                       0.740\n",
      "Model:                            OLS   Adj. R-squared:                  0.728\n",
      "Method:                 Least Squares   F-statistic:                     61.17\n",
      "Date:                Mon, 27 May 2024   Prob (F-statistic):           2.66e-13\n",
      "Time:                        16:47:10   Log-Likelihood:                -381.67\n",
      "No. Observations:                  46   AIC:                             769.3\n",
      "Df Residuals:                      43   BIC:                             774.8\n",
      "Df Model:                           2                                         \n",
      "Covariance Type:            nonrobust                                         \n",
      "======================================================================================\n",
      "                         coef    std err          t      P>|t|      [0.025      0.975]\n",
      "--------------------------------------------------------------------------------------\n",
      "intercepto          4056.0591    309.703     13.097      0.000    3431.483    4680.635\n",
      "Anos_Educ_Superior   335.3868     66.372      5.053      0.000     201.535     469.238\n",
      "Tempo_Empresa        117.6566     24.793      4.746      0.000      67.657     167.656\n",
      "==============================================================================\n",
      "Omnibus:                        7.622   Durbin-Watson:                   1.991\n",
      "Prob(Omnibus):                  0.022   Jarque-Bera (JB):                7.260\n",
      "Skew:                          -0.655   Prob(JB):                       0.0265\n",
      "Kurtosis:                       4.439   Cond. No.                         29.1\n",
      "==============================================================================\n",
      "\n",
      "Notes:\n",
      "[1] Standard Errors assume that the covariance matrix of the errors is correctly specified.\n"
     ]
    }
   ],
   "source": [
    "modelo = sm.OLS(y, x)\n",
    "resultado = modelo.fit()\n",
    "\n",
    "print(resultado.summary())"
   ]
  },
  {
   "cell_type": "markdown",
   "metadata": {},
   "source": [
    "### Diagnóstico do Modelo: Análise dos Resíduos"
   ]
  },
  {
   "cell_type": "code",
   "execution_count": 18,
   "metadata": {},
   "outputs": [],
   "source": [
    "def grafico_residuos(resultado):\n",
    "    # Criando o gráfico de resíduos\n",
    "    resid_graf = sns.scatterplot(x=list(range(0, len(resultado.resid_pearson))),\n",
    "                                 y=resultado.resid_pearson.tolist())\n",
    "\n",
    "    # Localizando valor mínimo dos resíduos\n",
    "    r_aux = resultado.resid_pearson.tolist()\n",
    "    r_aux.append(-3)\n",
    "    ymin = min(r_aux) * 1.1\n",
    "\n",
    "    # Localizando valor máximo dos resíduos\n",
    "    r_aux = resultado.resid_pearson.tolist()\n",
    "    r_aux.append(+3)\n",
    "    ymax = max(r_aux) * 1.1\n",
    "\n",
    "    resid_graf.set(ylim=(ymin, ymax))\n",
    "\n",
    "    ax1 = resid_graf.axes\n",
    "    ax1.axhline(0, color='black', ls='--')\n",
    "    ax1.axhline(-2, color='black', ls='--')\n",
    "    ax1.axhline(+2, color='black', ls='--')\n",
    "    \n",
    "    plt.show()"
   ]
  },
  {
   "cell_type": "code",
   "execution_count": 19,
   "metadata": {},
   "outputs": [
    {
     "data": {
      "image/png": "[encoded data removed]",
      "text/plain": [
       "<Figure size 640x480 with 1 Axes>"
      ]
     },
     "metadata": {},
     "output_type": "display_data"
    }
   ],
   "source": [
    "grafico_residuos(resultado)"
   ]
  },
  {
   "cell_type": "markdown",
   "metadata": {},
   "source": [
    "#### Normalidade dos Resíduos"
   ]
  },
  {
   "cell_type": "code",
   "execution_count": 22,
   "metadata": {},
   "outputs": [
    {
     "data": {
      "image/png": "[encoded data removed]",
      "text/plain": [
       "<Figure size 640x480 with 1 Axes>"
      ]
     },
     "metadata": {},
     "output_type": "display_data"
    }
   ],
   "source": [
    "sns.histplot(resultado.resid_pearson);"
   ]
  },
  {
   "cell_type": "code",
   "execution_count": 25,
   "metadata": {},
   "outputs": [
    {
     "name": "stdout",
     "output_type": "stream",
     "text": [
      "Estatística=0.952, p-valor=0.057\n"
     ]
    }
   ],
   "source": [
    "# Realização de Teste de Hipóteses para avaliar Normalidade\n",
    "from scipy.stats import shapiro\n",
    "normalidade = shapiro(resultado.resid_pearson)\n",
    "print(f'Estatística={normalidade.statistic:.3f}, p-valor={normalidade.pvalue:.3f}')"
   ]
  },
  {
   "cell_type": "markdown",
   "metadata": {},
   "source": [
    "#### Homoscedasticidade dos Resíduos "
   ]
  },
  {
   "cell_type": "code",
   "execution_count": 26,
   "metadata": {},
   "outputs": [],
   "source": [
    "from statsmodels.stats.diagnostic import het_white\n",
    "labels = ['LM Statistic', 'LM-Test p-value', 'F-Statistic', 'F-Test p-value']"
   ]
  },
  {
   "cell_type": "code",
   "execution_count": 27,
   "metadata": {},
   "outputs": [],
   "source": [
    "white_test = het_white(resultado.resid_pearson, resultado.model.exog)"
   ]
  },
  {
   "cell_type": "code",
   "execution_count": 28,
   "metadata": {},
   "outputs": [
    {
     "name": "stdout",
     "output_type": "stream",
     "text": [
      "{'LM Statistic': 14.66286205424024, 'LM-Test p-value': 0.011904321801029892, 'F-Statistic': 3.7432549404146913, 'F-Test p-value': 0.007127185674387098}\n"
     ]
    }
   ],
   "source": [
    "print(dict(zip(labels, white_test)))"
   ]
  }
 ],
 "metadata": {
  "kernelspec": {
   "display_name": "Python 3",
   "language": "python",
   "name": "python3"
  },
  "language_info": {
   "codemirror_mode": {
    "name": "ipython",
    "version": 3
   },
   "file_extension": ".py",
   "mimetype": "text/x-python",
   "name": "python",
   "nbconvert_exporter": "python",
   "pygments_lexer": "ipython3",
   "version": "3.12.2"
  }
 },
 "nbformat": 4,
 "nbformat_minor": 2
}
