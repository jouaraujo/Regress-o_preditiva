{
 "cells": [
  {
   "cell_type": "markdown",
   "metadata": {},
   "source": [
    "Quando temos variáveis explicativas que são altamente correlacionadas entre si, o **ajuste** do modelo é comprometido, prejudicando\n",
    "a **estimação dos coeficientes** e a **interpretabilidade do modelo**"
   ]
  },
  {
   "cell_type": "markdown",
   "metadata": {},
   "source": [
    "### Principais efeitos:"
   ]
  },
  {
   "cell_type": "markdown",
   "metadata": {},
   "source": [
    "1. O modelo mantém ou perde sua performance: $R^{2}$ não muda ou diminui.\n",
    "2. Variáveis que antes importavam para o modelo (p-valor < nível de significância) perdem relevância (p-valor > nível de significância).\n",
    "3. É possível também que o sinal dos coeficientes fiquem trocados para compensar a multicolinearidade, o que leva a problemas da interpretabilidade do\n",
    "modelo para o negócio."
   ]
  },
  {
   "cell_type": "markdown",
   "metadata": {},
   "source": [
    "### Como tratar a Multicolinearidade?"
   ]
  },
  {
   "cell_type": "markdown",
   "metadata": {},
   "source": [
    "1. Remova uma variável explicativa e ajuste o modelo novamente.\n",
    "\n",
    "**Importante**: Realize esse passo com uma variável explicativa de cada vez, pois ao remover uma delas todo o ajuste pode mudar."
   ]
  }
 ],
 "metadata": {
  "language_info": {
   "name": "python"
  }
 },
 "nbformat": 4,
 "nbformat_minor": 2
}
